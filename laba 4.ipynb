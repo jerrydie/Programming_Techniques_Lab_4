{
 "cells": [
  {
   "cell_type": "markdown",
   "metadata": {},
   "source": [
    "# Лабораторная работа № 4\n",
    "## Щеглова П.Н.\n",
    "1. Модифицировать (предложить собственные) два метода генерации псевдослучайных чисел.\n",
    "2. Получить не менее 10 выборок каждым методом (диапозон чисел в каждой выборке не менее 10000) объемом не менее 50 элементов каждая.\n",
    "3. Для каждой выборки посчитать среднее, отклонение и коэффициент вариации. Сделать вывод об однородности выборки.\n",
    "4. Каждую выборку проверить на равномерность распределения и случайность, используя критерий Хи-квадрат.\n",
    "5. Засечь время генерации чисел от тысячи до миллиона элементов обоими предложенными методами и любым стандартным методом используемого языка программирования. Построить графики сравнения скоростей в зависимости от объема выборки.\n",
    "6. В отчете обязательно отразить: код алгоритма генерации и критерия проверки гипотезы, скриншот с результатами выполнения, анализ полученных результатов и выводы."
   ]
  },
  {
   "cell_type": "code",
   "execution_count": 133,
   "metadata": {},
   "outputs": [
    {
     "data": {
      "text/plain": [
       "7"
      ]
     },
     "execution_count": 133,
     "metadata": {},
     "output_type": "execute_result"
    }
   ],
   "source": [
    "# линейный и кубический смешанный конгруэнтный метод\n",
    "\n",
    "class Randomizer:\n",
    "    def __init__(self, M, k, r, b):\n",
    "        self.r = r\n",
    "        self.M = M\n",
    "        self.k = k\n",
    "        self.b = b\n",
    "        self.INDEX = 0\n",
    "\n",
    "    def LCrand (self):\n",
    "        if self.INDEX == 0:\n",
    "            self.INDEX += 1\n",
    "            return self.r\n",
    "        else:\n",
    "            self.r = (self.k*self.r - self.b)%self.M\n",
    "            self.INDEX += 1\n",
    "            return self.r\n",
    "\n",
    "    def CCrand(self):\n",
    "        if self.INDEX == 0:\n",
    "            self.INDEX += 1\n",
    "            return self.r\n",
    "        else:\n",
    "            self.r = (self.k[2]*self.r**3 - self.k[1]*self.r**2 + self.k[0]*self.r-self.b)%self.M\n",
    "            self.INDEX += 1\n",
    "            return self.r\n",
    "\n",
    "r = 7\n",
    "M = 2**32\n",
    "k = 134775813\n",
    "b = 1\n",
    "LCrand = Randomizer(M, k, r, b)\n",
    "LCrand.LCrand() # не включаем в выборку первое число r0\n",
    "k = [13, 37, 4781]\n",
    "CCrand = Randomizer(M, k, r, b)\n",
    "CCrand.CCrand() # не включаем в выборку первое число r0"
   ]
  },
  {
   "cell_type": "code",
   "execution_count": 116,
   "metadata": {},
   "outputs": [],
   "source": [
    "\"\"\"@package docstring\n",
    "In this module quick sorting algorithm is formed as a functional module. Const function.\n",
    "\"\"\"\n",
    "import random\n",
    "\n",
    "def quicksort(nums):\n",
    "    if len(nums) <= 1:\n",
    "        return nums\n",
    "    else:\n",
    "        q = random.choice(nums)\n",
    "        s_nums = []\n",
    "        b_nums = []\n",
    "        e_nums = []\n",
    "        for n in nums:\n",
    "            if n < q:\n",
    "                s_nums.append(n)\n",
    "            elif n > q:\n",
    "                b_nums.append(n)\n",
    "            else:\n",
    "                e_nums.append(n)\n",
    "        return quicksort(s_nums) + e_nums + quicksort(b_nums)"
   ]
  },
  {
   "cell_type": "code",
   "execution_count": 134,
   "metadata": {},
   "outputs": [],
   "source": [
    "dims = [50, 100, 200, 500, 1000, 5000, 10000, 50000, 100000, 200000]\n",
    "samples_CC = [[],[],[],[],[],[],[],[],[],[]]\n",
    "for  i in range(len(dims)):\n",
    "    for j in range(dims[i]):\n",
    "        samples_CC[i].append(CCrand.CCrand())"
   ]
  },
  {
   "cell_type": "code",
   "execution_count": 118,
   "metadata": {},
   "outputs": [],
   "source": [
    "dims = [50, 100, 200, 500, 1000, 5000, 10000, 50000, 100000, 200000]\n",
    "samples_LC = [[],[],[],[],[],[],[],[],[],[]]\n",
    "for  i in range(len(dims)):\n",
    "    for j in range(dims[i]):\n",
    "        samples_LC[i].append(LCrand.LCrand())"
   ]
  },
  {
   "cell_type": "markdown",
   "metadata": {},
   "source": [
    "$\\bar{X} = \\dfrac{1}{n}\\sum_{i=1}^n X_i $ - выборочное среднее\n",
    "\n",
    "$\\sigma^2 = \\hat{\\mu}_2 = \\dfrac{1}{n} \\sum_{i=1}^n (X_i-\\bar{X})^2$ - выборочная дисперсия\n",
    "\n",
    "Так как $E\\hat{\\mu}_2 = \\dfrac{n-1}{n}\\mu_2$, если бы вместо выборочной дисперсии в качестве оценки для теоритической дисперсии мы взяли статистику следующего вида:\n",
    "$$ S_0^2 = \\dfrac{1}{n-1} \\sum_{i=1}^n (X_i - \\bar{X})^2 $$\n",
    "то данная оценка была бы не только состоятельной, но и несмещенной для $\\mu_2$.\n",
    "\n",
    "Стандартное отклонение - оценка среднеквадратического отклонения случайной величины относительно ее математического ожидания на основе несмещенной оценки ее дисперсии:\n",
    "\n",
    "$$ s = \\sqrt{\\dfrac{n}{n-1}\\sigma^2} $$"
   ]
  },
  {
   "cell_type": "code",
   "execution_count": 136,
   "metadata": {},
   "outputs": [],
   "source": [
    "from functools import reduce\n",
    "# Выборочное среднее\n",
    "def sample_mean(sample, dim):\n",
    "    return reduce(lambda a,b : a+b, sample)/dim\n",
    "means_LC = []\n",
    "means_CC = []\n",
    "for  i in range(len(dims)):\n",
    "    means_LC.append(sample_mean(samples_LC[i], dims[i]))\n",
    "    means_CC.append(sample_mean(samples_CC[i], dims[i]))"
   ]
  },
  {
   "cell_type": "code",
   "execution_count": 146,
   "metadata": {},
   "outputs": [
    {
     "name": "stdout",
     "output_type": "stream",
     "text": [
      "[0.44832751588430253, 0.493263272405602, 0.5263731005834416, 0.5023144444758072, 0.506859704923816, 0.49882600219566375, 0.5003995250688866, 0.5009383782576398, 0.4991587003164366, 0.49958367266584186] [0.5388616192666814, 0.5346039833454416, 0.5421039833454415, 0.5421039833454415, 0.5421039833454415, 0.5421039833454415, 0.5421039833454415, 0.5421039833454415, 0.5421039833454415, 0.5421039833454415]\n"
     ]
    }
   ],
   "source": [
    "print([mean/M for mean in means_LC], [mean/M for mean in means_CC])"
   ]
  },
  {
   "cell_type": "code",
   "execution_count": 137,
   "metadata": {},
   "outputs": [],
   "source": [
    "import numpy as np\n",
    "# выборочное отклонение\n",
    "def sample_diver(sample, mean, dim):\n",
    "    return (np.sum([(sample[i] - mean)**2 for i in range(dim)])/(dim))**(1/2)\n",
    "diver_LC = []\n",
    "standart_diver_LC = []\n",
    "diver_CC = []\n",
    "standart_diver_CC = []\n",
    "for  i in range(len(dims)):\n",
    "    diver_LC.append(sample_diver(samples_LC[i], means_LC[i], dims[i])) #sigma\n",
    "    standart_diver_LC.append(sample_diver(samples_LC[i], means_LC[i], dims[i]-1)) #s\n",
    "    diver_CC.append(sample_diver(samples_CC[i], means_CC[i], dims[i])) #sigma\n",
    "    standart_diver_CC.append(sample_diver(samples_CC[i], means_CC[i], dims[i]-1)) #s"
   ]
  },
  {
   "cell_type": "code",
   "execution_count": 143,
   "metadata": {},
   "outputs": [
    {
     "name": "stdout",
     "output_type": "stream",
     "text": [
      "[0.27659399686401637, 0.29016729098939636, 0.28456332044595756, 0.2860130098217305, 0.28871319550103614, 0.2929256627277301, 0.2887254222247786, 0.2884369888021048, 0.2899065922864027, 0.2891491901335203] [0.28463608203961105, 0.09461612856738562, 0.05269564676564187, 0.052695646765641875, 0.052695646765641875, 0.05269564676564187, 0.052695646765641875, 0.052695646765641875, 0.052695646765641875, 0.05269564676564188]\n"
     ]
    }
   ],
   "source": [
    "print([diver/M for diver in diver_LC], [diver/M for diver in diver_CC])"
   ]
  },
  {
   "cell_type": "markdown",
   "metadata": {},
   "source": [
    "Предварительная оценка однородности совокупности выполняется на основе коэффициента вариации: $ v_\\sigma = \\dfrac{\\sigma}{\\bar{X}} $. Если $ v_\\sigma \\leq 33\\%$ , то совокупность является однородной.\n"
   ]
  },
  {
   "cell_type": "code",
   "execution_count": 138,
   "metadata": {},
   "outputs": [
    {
     "name": "stdout",
     "output_type": "stream",
     "text": [
      "[61.95853619435123, 58.771944185522706, 54.121937778326725, 56.95371373380858, 56.933237318531916, 58.72888091622153, 57.70053388332597, 57.578805065463534, 58.07933255886738, 57.8777762620925] \n",
      " [53.3577312063396, 17.751484311944036, 9.720579148016137, 9.720579148016139, 9.720579148016139, 9.720579148016137, 9.720579148016139, 9.720579148016139, 9.720579148016139, 9.72057914801614]\n"
     ]
    }
   ],
   "source": [
    "v_sigma_LC = [standart_diver_LC[i]/means_LC[i]*100 for i in range(len(means_LC))]\n",
    "v_sigma_CC = [standart_diver_CC[i]/means_CC[i]*100 for i in range(len(means_CC))]\n",
    "print(v_sigma_LC, '\\n', v_sigma_CC)"
   ]
  },
  {
   "cell_type": "markdown",
   "metadata": {},
   "source": [
    "Сформулируем гипотезу $H_{0}$ и $H_1$: \n",
    "Пусть дана выборка $X = (X_1 \\ldots X_n)$ из распределения $\\mathcal{L}(\\xi)$ и $F_\\xi$ - неизвестное распределение.\n",
    "\n",
    "1. $H_0 : F_\\xi = UNIFORM(x, loc = 0, scale = M)$ - простая гипотеза, $UNIFORM$ - равномерное распределение\n",
    "2. $H_1$ : не $UNIFORM(x, loc = 0, scale = M)$\n",
    "\n",
    "Для проверки гипотезы $H_{0}$ воспользуемся критерием Пирсона (хи-квадрат). Для каждой выборки объемов $dims$ найдем значение критерия, границу критического множества для уровня значимости $\\alpha=0.1$ и $\\alpha=0.05$. В каждом случае возьмем $N=15$. Разделим каждую выборку на равновероятностные интервалы $np.arange(0.01, 1, 1/15)$, в случае если взятый интервал меньше, чем 1, он склеивается со следующим.\n",
    "\n",
    "Граница уровня значимости $\\alpha$ - это есть ни что иное, как $1-\\alpha$-квантиль распределения $\\chi^2(N-1)$\n",
    "\n",
    "Статистика критерия согласия $\\chi ^{2}$ Пирсона определяется соотношением:\n",
    "$$\\chi ^{2} = n \\sum_{i=1}^{N}\\dfrac{(n_i/n - P(\\theta))^2}{P(\\theta)}  $$\n"
   ]
  },
  {
   "cell_type": "code",
   "execution_count": 139,
   "metadata": {},
   "outputs": [
    {
     "name": "stdout",
     "output_type": "stream",
     "text": [
      "                              Выборка LC                                  \n",
      "                              Выборка размера 50                                  \n",
      "Значение критерия: 11.19,  \n",
      "\tДля уровня 0.1, граница 21.01:  H0 принимается;  Для уровня 0.05, граница 23.68  H0 принимается;\n",
      "                              Выборка размера 100                                  \n",
      "Значение критерия: 11.14,  \n",
      "\tДля уровня 0.1, граница 21.06:  H0 принимается;  Для уровня 0.05, граница 23.73  H0 принимается;\n",
      "                              Выборка размера 200                                  \n",
      "Значение критерия: 11.23,  \n",
      "\tДля уровня 0.1, граница 21.06:  H0 принимается;  Для уровня 0.05, граница 23.78  H0 принимается;\n",
      "                              Выборка размера 500                                  \n",
      "Значение критерия: 11.18,  \n",
      "\tДля уровня 0.1, граница 21.13:  H0 принимается;  Для уровня 0.05, граница 23.71  H0 принимается;\n",
      "                              Выборка размера 1000                                  \n",
      "Значение критерия: 11.19,  \n",
      "\tДля уровня 0.1, граница 21.12:  H0 принимается;  Для уровня 0.05, граница 23.64  H0 принимается;\n",
      "                              Выборка размера 5000                                  \n",
      "Значение критерия: 11.21,  \n",
      "\tДля уровня 0.1, граница 21.06:  H0 принимается;  Для уровня 0.05, граница 23.63  H0 принимается;\n",
      "                              Выборка размера 10000                                  \n",
      "Значение критерия: 11.19,  \n",
      "\tДля уровня 0.1, граница 21.02:  H0 принимается;  Для уровня 0.05, граница 23.61  H0 принимается;\n",
      "                              Выборка размера 50000                                  \n",
      "Значение критерия: 11.18,  \n",
      "\tДля уровня 0.1, граница 21.04:  H0 принимается;  Для уровня 0.05, граница 23.67  H0 принимается;\n",
      "                              Выборка размера 100000                                  \n",
      "Значение критерия: 11.19,  \n",
      "\tДля уровня 0.1, граница 21.05:  H0 принимается;  Для уровня 0.05, граница 23.72  H0 принимается;\n",
      "                              Выборка размера 200000                                  \n",
      "Значение критерия: 11.19,  \n",
      "\tДля уровня 0.1, граница 21.1:  H0 принимается;  Для уровня 0.05, граница 23.65  H0 принимается;\n",
      "====================================================================================================\n",
      "                              Выборка CC                                  \n",
      "                              Выборка размера 50                                  \n",
      "Значение критерия: 11.21,  \n",
      "\tДля уровня 0.1, граница 21.09:  H0 принимается;  Для уровня 0.05, граница 23.62  H0 принимается;\n",
      "                              Выборка размера 100                                  \n",
      "Значение критерия: 11.32,  \n",
      "\tДля уровня 0.1, граница 21.07:  H0 принимается;  Для уровня 0.05, граница 23.63  H0 принимается;\n",
      "                              Выборка размера 200                                  \n",
      "Значение критерия: 11.36,  \n",
      "\tДля уровня 0.1, граница 21.04:  H0 принимается;  Для уровня 0.05, граница 23.71  H0 принимается;\n",
      "                              Выборка размера 500                                  \n",
      "Значение критерия: 11.36,  \n",
      "\tДля уровня 0.1, граница 21.06:  H0 принимается;  Для уровня 0.05, граница 23.73  H0 принимается;\n",
      "                              Выборка размера 1000                                  \n",
      "Значение критерия: 11.36,  \n",
      "\tДля уровня 0.1, граница 21.08:  H0 принимается;  Для уровня 0.05, граница 23.66  H0 принимается;\n",
      "                              Выборка размера 5000                                  \n",
      "Значение критерия: 11.36,  \n",
      "\tДля уровня 0.1, граница 21.04:  H0 принимается;  Для уровня 0.05, граница 23.7  H0 принимается;\n",
      "                              Выборка размера 10000                                  \n",
      "Значение критерия: 11.36,  \n",
      "\tДля уровня 0.1, граница 21.03:  H0 принимается;  Для уровня 0.05, граница 23.69  H0 принимается;\n",
      "                              Выборка размера 50000                                  \n",
      "Значение критерия: 11.36,  \n",
      "\tДля уровня 0.1, граница 21.09:  H0 принимается;  Для уровня 0.05, граница 23.73  H0 принимается;\n",
      "                              Выборка размера 100000                                  \n",
      "Значение критерия: 11.36,  \n",
      "\tДля уровня 0.1, граница 21.05:  H0 принимается;  Для уровня 0.05, граница 23.62  H0 принимается;\n",
      "                              Выборка размера 200000                                  \n",
      "Значение критерия: 11.36,  \n",
      "\tДля уровня 0.1, граница 21.04:  H0 принимается;  Для уровня 0.05, граница 23.65  H0 принимается;\n",
      "====================================================================================================\n"
     ]
    }
   ],
   "source": [
    "from scipy.stats import uniform, chi2\n",
    "import pandas as pd\n",
    "\n",
    "M = 2**32\n",
    "\n",
    "def counter(array, num1, num2):\n",
    "    '''\n",
    "    this function counts how many numbers in the array are in specified range [num1; num2).\n",
    "    '''\n",
    "    count = 0\n",
    "    for i in range(len(array)):\n",
    "        if array[i] < num2 and array[i] >= num1:\n",
    "            count += 1\n",
    "    return count\n",
    "\n",
    "def compute_quantile(df_, alpha_):\n",
    "    '''\n",
    "    this function computes the chi square distribution quantile of the level alpha_.\n",
    "    '''\n",
    "    return np.quantile(chi2.rvs(df_, size=100000), 1-alpha_)\n",
    "\n",
    "def compute_crit(sample, cdf, param, dim, value1, value2):\n",
    "    '''\n",
    "    this function computes the criterion value.\n",
    "    '''\n",
    "    sum_cdf = 0\n",
    "    for i in np.arange(value1, value2, (value2-value1)/2):\n",
    "        sum_cdf += cdf(i, scale = param)\n",
    "    return (counter(sample, value1, value2)/dim-sum_cdf)**2/sum_cdf\n",
    "\n",
    "def chi2_check(arrays, cdf, param, dims, values):\n",
    "    '''\n",
    "    this function using the chi square criterion shows if H0 hypothesis is accepted or not for each sample.\n",
    "    '''\n",
    "    for j in range(len(arrays)):\n",
    "        print(f\"                              Выборка размера {dims[j]}                                  \")\n",
    "        array_ = quicksort(arrays[j])\n",
    "        crit_sum = 0\n",
    "        nvalues = len(values)\n",
    "        for k in range(1, nvalues):\n",
    "            crit_sum += (compute_crit(array_, cdf, param, dims[j], values[k-1], values[k]))\n",
    "        quantile01 = compute_quantile((nvalues-1),0.1)\n",
    "        quantile005 = compute_quantile((nvalues-1),0.05)\n",
    "        if(crit_sum<quantile01):\n",
    "            answ01 = \"H0 принимается;\"\n",
    "        else:\n",
    "            answ01 = \"H0 отклоняется;\"\n",
    "        if(crit_sum<quantile005):\n",
    "            answ005 = \"H0 принимается;\"\n",
    "        else:\n",
    "            answ005 = \"H0 отклоняется;\"\n",
    "        print(f\"Значение критерия: {crit_sum:.4}, \",\n",
    "              f\"\\n\\tДля уровня 0.1, граница {quantile01:.4}: \", answ01,\n",
    "              f\" Для уровня 0.05, граница {quantile005:.4} \", answ005)\n",
    "    print('='*100)\n",
    "        \n",
    "values = []\n",
    "for alpha in np.arange(0.01, 1, 1/15):\n",
    "    values.append(uniform.ppf(alpha, scale = M))\n",
    "values = pd.Series(values).unique()\n",
    "\n",
    "print(f\"                              Выборка LC                                  \")\n",
    "chi2_check(samples_LC, uniform.cdf, M, dims, values)\n",
    "print(f\"                              Выборка CC                                  \")\n",
    "chi2_check(samples_CC, uniform.cdf, M, dims, values)"
   ]
  },
  {
   "cell_type": "code",
   "execution_count": 150,
   "metadata": {},
   "outputs": [
    {
     "data": {
      "image/png": "[encoded data removed]",
      "text/plain": [
       "<Figure size 432x288 with 1 Axes>"
      ]
     },
     "metadata": {
      "needs_background": "light"
     },
     "output_type": "display_data"
    }
   ],
   "source": [
    "#построим полигоны частот для первых 6-ти выборок и сравним с теор. частотами (равными)\n",
    "import matplotlib.pyplot as plt\n",
    "\n",
    "def simple_counter(array, num):\n",
    "    '''\n",
    "    this function counts how many numbers in the array are equal to num. Linear complexity.\n",
    "    '''\n",
    "    count = 0\n",
    "    for i in range(len(array)):\n",
    "        if int(array[i]) == int(num):\n",
    "            count += 1\n",
    "\n",
    "    return count\n",
    "    \n",
    "fig, ax = plt.subplots(1,1)\n",
    "for i in range(len(dims[:6])):\n",
    "    xs = np.unique(samples_LC[i])\n",
    "    y = []\n",
    "    for number in xs:\n",
    "        y.append(simple_counter(samples_LC[i], number)/dims[i])\n",
    "    plt.xlabel('numbers')\n",
    "    plt.ylabel('frequency')\n",
    "    ax.plot(xs, y, alpha=0.6, label='EPMF{h}'.format(h=dims[i]))\n",
    "ax.plot(xs, uniform.pdf(xs, scale = M), 'g', lw=2, alpha=0.6, label='PMF')\n",
    "ax.legend(loc='upper left', frameon=True)\n",
    "plt.show()"
   ]
  },
  {
   "cell_type": "code",
   "execution_count": 147,
   "metadata": {},
   "outputs": [
    {
     "name": "stderr",
     "output_type": "stream",
     "text": [
      "C:\\Users\\polin\\Anaconda3\\lib\\site-packages\\ipykernel_launcher.py:19: DeprecationWarning: time.clock has been deprecated in Python 3.3 and will be removed from Python 3.8: use time.perf_counter or time.process_time instead\n",
      "C:\\Users\\polin\\Anaconda3\\lib\\site-packages\\ipykernel_launcher.py:22: DeprecationWarning: time.clock has been deprecated in Python 3.3 and will be removed from Python 3.8: use time.perf_counter or time.process_time instead\n",
      "C:\\Users\\polin\\Anaconda3\\lib\\site-packages\\ipykernel_launcher.py:38: DeprecationWarning: time.clock has been deprecated in Python 3.3 and will be removed from Python 3.8: use time.perf_counter or time.process_time instead\n",
      "C:\\Users\\polin\\Anaconda3\\lib\\site-packages\\ipykernel_launcher.py:41: DeprecationWarning: time.clock has been deprecated in Python 3.3 and will be removed from Python 3.8: use time.perf_counter or time.process_time instead\n",
      "C:\\Users\\polin\\Anaconda3\\lib\\site-packages\\ipykernel_launcher.py:57: DeprecationWarning: time.clock has been deprecated in Python 3.3 and will be removed from Python 3.8: use time.perf_counter or time.process_time instead\n",
      "C:\\Users\\polin\\Anaconda3\\lib\\site-packages\\ipykernel_launcher.py:59: DeprecationWarning: time.clock has been deprecated in Python 3.3 and will be removed from Python 3.8: use time.perf_counter or time.process_time instead\n"
     ]
    }
   ],
   "source": [
    "\"\"\"@package docstring\n",
    "In this module all algorithms are timed.\n",
    "\"\"\"\n",
    "import timeit\n",
    "import time\n",
    "\n",
    "def CCrand_time(dim):\n",
    "    \"\"\"\n",
    "* @dim - размер массива для генерации.\n",
    "* @start - время начала замера времени.\n",
    "* @end - время конца замера времени.\n",
    "* @repeats - количество повторений замера времени.\n",
    "* @total_time - суммарное время выполнения всех повторений.\n",
    "* @return среднее замеров времени.\n",
    "    \"\"\"\n",
    "    repeats = 10\n",
    "    total_time = 0\n",
    "    for repeat in range(repeats):\n",
    "        start = time.clock()\n",
    "        for i in range(dim):\n",
    "            CCrand.CCrand()\n",
    "        end = time.clock()\n",
    "        total_time += abs(end - start)\n",
    "    return total_time/repeats\n",
    "\n",
    "def LCrand_time(dim):\n",
    "    \"\"\"\n",
    "* @dim - размер массива для генерации.\n",
    "* @start - время начала замера времени.\n",
    "* @end - время конца замера времени.\n",
    "* @repeats - количество повторений замера времени.\n",
    "* @total_time - суммарное время выполнения всех повторений.\n",
    "* @return среднее замеров времени.\n",
    "    \"\"\"\n",
    "    repeats = 10\n",
    "    total_time = 0\n",
    "    for repeat in range(repeats):\n",
    "        start = time.clock()\n",
    "        for i in range(dim):\n",
    "            LCrand.LCrand()\n",
    "        end = time.clock()\n",
    "        total_time += abs(end - start)\n",
    "    return total_time/repeats\n",
    "\n",
    "def py_rand_time(dim):\n",
    "    \"\"\"\n",
    "* @dim - размер массива для генерации.\n",
    "* @start - время начала замера времени.\n",
    "* @end - время конца замера времени.\n",
    "* @repeats - количество повторений замера времени.\n",
    "* @total_time - суммарное время выполнения всех повторений.\n",
    "* @return среднее замеров времени.\n",
    "    \"\"\"\n",
    "    repeats = 10\n",
    "    total_time = 0\n",
    "    for repeat in range(repeats):\n",
    "        start = time.clock()\n",
    "        uniform.rvs(scale = M, size=dim)\n",
    "        end = time.clock()\n",
    "        total_time += abs(end - start)\n",
    "    return total_time/repeats\n",
    "\n",
    "time_dims = np.linspace(1000, 1000000, num=10, dtype=int)\n",
    "CCrand_t = []\n",
    "LCrand_t = []\n",
    "py_rand_t = []\n",
    "\n",
    "for i in range(10):\n",
    "    CCrand_t.append(CCrand_time(time_dims[i]))\n",
    "    LCrand_t.append(LCrand_time(time_dims[i]))\n",
    "    py_rand_t.append(py_rand_time(time_dims[i]))"
   ]
  },
  {
   "cell_type": "code",
   "execution_count": 148,
   "metadata": {},
   "outputs": [
    {
     "data": {
      "image/png": "[encoded data removed]",
      "text/plain": [
       "<Figure size 432x288 with 1 Axes>"
      ]
     },
     "metadata": {
      "needs_background": "light"
     },
     "output_type": "display_data"
    }
   ],
   "source": [
    "\"\"\"@package docstring\n",
    "In this module graph is created to visualy compare the speed difference between random generation algorithms. Log scale.\n",
    "\"\"\"\n",
    "import matplotlib.pyplot as plt\n",
    "fig = plt.figure()\n",
    "ax = fig.add_subplot(1,1, 1)\n",
    "\n",
    "plt.plot(time_dims, CCrand_t, ':g', lw=1, alpha=0.6, label='LCrand')\n",
    "plt.plot(time_dims, LCrand_t, '--r', lw=2, alpha=0.8, label='CCrand')\n",
    "plt.plot(time_dims, py_rand_t, '-.b', lw=2, alpha=0.8, label='py_rand')\n",
    "plt.legend(loc='upper left', frameon=True)\n",
    "plt.xlabel('series\\' dimensions')\n",
    "plt.ylabel('geeration time, µs')\n",
    "ax.set_yscale('log')\n",
    "plt.show()"
   ]
  },
  {
   "cell_type": "code",
   "execution_count": null,
   "metadata": {},
   "outputs": [],
   "source": []
  }
 ],
 "metadata": {
  "kernelspec": {
   "display_name": "Python 3",
   "language": "python",
   "name": "python3"
  },
  "language_info": {
   "codemirror_mode": {
    "name": "ipython",
    "version": 3
   },
   "file_extension": ".py",
   "mimetype": "text/x-python",
   "name": "python",
   "nbconvert_exporter": "python",
   "pygments_lexer": "ipython3",
   "version": "3.7.3"
  }
 },
 "nbformat": 4,
 "nbformat_minor": 2
}
